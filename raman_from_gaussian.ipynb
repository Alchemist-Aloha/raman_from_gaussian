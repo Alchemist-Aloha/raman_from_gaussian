{
 "cells": [
  {
   "cell_type": "code",
   "execution_count": null,
   "id": "f719072f",
   "metadata": {},
   "outputs": [],
   "source": [
    "from core import plot_raman_spectrum, generate_rr_spectrum, extract_rr, extract_nrr, generate_nrr_spectrum"
   ]
  },
  {
   "cell_type": "code",
   "execution_count": null,
   "id": "15ccf50a",
   "metadata": {},
   "outputs": [],
   "source": [
    "# resonance Raman example\n",
    "input_file = \"rr.log\"\n",
    "generate_rr_spectrum(min=0, max=4000, nstep=8000, input_filename=input_file, lorentzian_width=10, gaussian_width=10, lorentzian_percentage=1)"
   ]
  },
  {
   "cell_type": "code",
   "execution_count": null,
   "id": "4b7f9207",
   "metadata": {},
   "outputs": [],
   "source": [
    "# non-resonance Raman example\n",
    "input_file = \"nrr.log\"\n",
    "generate_nrr_spectrum(min=0, max=4000, nstep=8000, input_filename=input_file, lorentzian_width=10, gaussian_width=10, lorentzian_percentage=1)"
   ]
  }
 ],
 "metadata": {
  "kernelspec": {
   "display_name": "Python 3",
   "language": "python",
   "name": "python3"
  },
  "language_info": {
   "codemirror_mode": {
    "name": "ipython",
    "version": 3
   },
   "file_extension": ".py",
   "mimetype": "text/x-python",
   "name": "python",
   "nbconvert_exporter": "python",
   "pygments_lexer": "ipython3",
   "version": "3.13.7"
  }
 },
 "nbformat": 4,
 "nbformat_minor": 5
}
